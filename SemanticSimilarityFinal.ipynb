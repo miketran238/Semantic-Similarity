{
  "nbformat": 4,
  "nbformat_minor": 0,
  "metadata": {
    "colab": {
      "name": "Copy of HW3_Bengio_2003_and_Roland_2012_An_Nguyen.ipynb",
      "provenance": [],
      "collapsed_sections": []
    },
    "kernelspec": {
      "name": "python3",
      "display_name": "Python 3"
    },
    "accelerator": "GPU"
  },
  "cells": [
    {
      "cell_type": "markdown",
      "metadata": {
        "id": "c-M8Y_9qMWLE"
      },
      "source": [
        "# CAPSTONE PROJECT  \n",
        "**SEMANTIC SIMILARITY USING N-GRAMS AND NEURAL N-GRAMS.**\n",
        "\n",
        "by NGOC (MIKE) TRAN\n",
        "\n",
        "\n"
      ]
    },
    {
      "cell_type": "markdown",
      "metadata": {
        "id": "lEjeJmf5Phol"
      },
      "source": [
        "# 1.  Data prep\n",
        "\n",
        "We can get the data directly from the nltk packet. "
      ]
    },
    {
      "cell_type": "code",
      "metadata": {
        "id": "TaIGRNFHMGZE",
        "colab": {
          "base_uri": "https://localhost:8080/"
        },
        "outputId": "23c81e52-9b20-45b9-b7a0-34c2ab0df3a0"
      },
      "source": [
        "import nltk\n",
        "nltk.download(\"brown\")"
      ],
      "execution_count": 1,
      "outputs": [
        {
          "output_type": "stream",
          "text": [
            "[nltk_data] Downloading package brown to /root/nltk_data...\n",
            "[nltk_data]   Unzipping corpora/brown.zip.\n"
          ],
          "name": "stdout"
        },
        {
          "output_type": "execute_result",
          "data": {
            "text/plain": [
              "True"
            ]
          },
          "metadata": {
            "tags": []
          },
          "execution_count": 1
        }
      ]
    },
    {
      "cell_type": "code",
      "metadata": {
        "id": "Dp5r7LpgPhHn",
        "colab": {
          "base_uri": "https://localhost:8080/"
        },
        "outputId": "46e8bed5-f642-491f-96ae-307c2a9d4e80"
      },
      "source": [
        "brown = nltk.corpus.brown.words()\n",
        "\n",
        "# This allows us to walk through the corpus word by word\n",
        "print(brown)\n",
        "\n",
        "# This behaves just like any other list\n",
        "print(len(brown))\n",
        "print(brown[0])\n",
        "print(brown[:10])\n",
        "\n",
        "brown = [word.lower() for word in brown]\n",
        "print(brown[:20])"
      ],
      "execution_count": 2,
      "outputs": [
        {
          "output_type": "stream",
          "text": [
            "['The', 'Fulton', 'County', 'Grand', 'Jury', 'said', ...]\n",
            "1161192\n",
            "The\n",
            "['The', 'Fulton', 'County', 'Grand', 'Jury', 'said', 'Friday', 'an', 'investigation', 'of']\n",
            "['the', 'fulton', 'county', 'grand', 'jury', 'said', 'friday', 'an', 'investigation', 'of', \"atlanta's\", 'recent', 'primary', 'election', 'produced', '``', 'no', 'evidence', \"''\", 'that']\n"
          ],
          "name": "stdout"
        }
      ]
    },
    {
      "cell_type": "markdown",
      "metadata": {
        "id": "ClQ6psUSUN2X"
      },
      "source": [
        "Spliting the data into train, dev, and test set"
      ]
    },
    {
      "cell_type": "code",
      "metadata": {
        "id": "c7Qv80IKVL6b"
      },
      "source": [
        "# Divide the data into training, evaluation and testing\n",
        "train_words = brown[:800001]\n",
        "dev_words = brown[800001:1000001]\n",
        "test_words = brown[1000001:]"
      ],
      "execution_count": 3,
      "outputs": []
    },
    {
      "cell_type": "markdown",
      "metadata": {
        "id": "-G2QRy5PSUKc"
      },
      "source": [
        "Build a vocabulary for the words while merging the words with frequency less than 4 into the same unknown category.\n",
        "\n",
        "We also indexed all the words as it is the norm input for the neural network."
      ]
    },
    {
      "cell_type": "code",
      "metadata": {
        "id": "0UA24Ep4UMIw"
      },
      "source": [
        "UNK = \"<UNK>\"\n",
        "def build_indices(tokens, k):\n",
        "  vocab = []\n",
        "  word2idx = {}\n",
        "  count = {}\n",
        "  for i in tokens:\n",
        "    if not (i in vocab):\n",
        "      vocab.append(i)\n",
        "      count[i] = 1\n",
        "    else:\n",
        "      count[i]+=1\n",
        "    \n",
        "  for j in list(count):\n",
        "    if (count[j] <= k):\n",
        "      del(count[j])\n",
        "     \n",
        "  vocab = list(count)\n",
        "  vocab.append(UNK)\n",
        "  for n in vocab:\n",
        "    word2idx[n] = vocab.index(n)\n",
        "  \n",
        "  # Fill in your implementation here\n",
        "  \n",
        "  return word2idx, vocab\n",
        "\n",
        "word2idx, vocab = build_indices(train_words, 3)"
      ],
      "execution_count": 4,
      "outputs": []
    },
    {
      "cell_type": "code",
      "metadata": {
        "id": "jMndTbWPX7IC"
      },
      "source": [
        "#Indexing all the dataset\n",
        "train_indices = [word2idx[word] if word in vocab else word2idx[UNK] for word in train_words]\n",
        "dev_indices = [word2idx[word] if word in vocab else word2idx[UNK] for word in dev_words]\n",
        "test_indices = [word2idx[word] if word in vocab else word2idx[UNK] for word in test_words]"
      ],
      "execution_count": 5,
      "outputs": []
    },
    {
      "cell_type": "markdown",
      "metadata": {
        "id": "oe7iA-2koSBf"
      },
      "source": [
        "Check the size of the vocabulary"
      ]
    },
    {
      "cell_type": "code",
      "metadata": {
        "colab": {
          "base_uri": "https://localhost:8080/"
        },
        "id": "LXLyZ_ROvRg3",
        "outputId": "e296d40a-a146-4be9-d80e-42840993eccc"
      },
      "source": [
        "print(len(vocab)"
      ],
      "execution_count": 6,
      "outputs": [
        {
          "output_type": "stream",
          "text": [
            "14507\n"
          ],
          "name": "stdout"
        }
      ]
    },
    {
      "cell_type": "markdown",
      "metadata": {
        "id": "_nCeeywPYT7f"
      },
      "source": [
        "## 2. Ngrams Model\n",
        "First, we take the count of all the unigrams, bigrams and trigrams"
      ]
    },
    {
      "cell_type": "code",
      "metadata": {
        "id": "HMUFkkabZFBY"
      },
      "source": [
        "unigrams = {}\n",
        "bigrams = {}\n",
        "trigrams = {}\n",
        "\n",
        "for word in train_indices:\n",
        "  t = tuple((word,))\n",
        "  if not(word in unigrams):\n",
        "    unigrams[word] = train_indices.count(word)\n",
        "    \n",
        "trigram_set = [train_indices[i:i+3] for i in range(len(train_indices)-2)]\n",
        "for word in trigram_set:\n",
        "  t = tuple(word)\n",
        "  trigrams[t] =  trigrams.get(t, 0) + 1\n",
        "      \n",
        "bigram_set = [train_indices[i:i+2] for i in range(len(train_indices)-1)]\n",
        "for word in bigram_set:\n",
        "  t = tuple(word)\n",
        "  bigrams[t] =  bigrams.get(t, 0) + 1\n"
      ],
      "execution_count": 7,
      "outputs": []
    },
    {
      "cell_type": "markdown",
      "metadata": {
        "id": "IvP16U_CZXt4"
      },
      "source": [
        "Implement the interpolated n-grams"
      ]
    },
    {
      "cell_type": "code",
      "metadata": {
        "id": "0oPUTI8JZWyH",
        "colab": {
          "base_uri": "https://localhost:8080/"
        },
        "outputId": "013cbfdc-6644-46c8-c10e-00ec6cf4fedc"
      },
      "source": [
        "import numpy as np\n",
        "\n",
        "def get_interpolated_trigram(unigrams, bigrams, trigrams, weights):\n",
        "  # {unigrams, bigrams, trigrams}grams are the counts of the relevant ngram\n",
        "  # weights is size-3 tuple that represents the weights of those model respectively, \n",
        "  # in probabilities that sum up to 1\n",
        "  \n",
        "  def interpolated_trigram(trigram):\n",
        "    #Calculating the biggest grams first and goes down one by one\n",
        "    #Minus to remove the redundant count since a bigger gram also contains the smaller one\n",
        "    if (trigrams.get(trigram,0) == 0 and bigrams.get((trigram[0],trigram[1]),0) == 0):\n",
        "      t3 =np.log(0)\n",
        "    else:\n",
        "      t3 = np.log(weights[2]) + np.log(trigrams.get(trigram,0)) - np.log(bigrams.get((trigram[0],trigram[1]),0))\n",
        "    t2 = np.log(weights[1]) + np.log(bigrams.get((trigram[1],trigram[2]),0)) - np.log(unigrams.get(trigram[1],0))\n",
        "    t1= np.log(weights[0]) + np.log(unigrams.get(trigram[2],0)) - np.log(len(unigrams))\n",
        "    prob = np.logaddexp(t1, t2)\n",
        "    prob2 = np.logaddexp(prob,t3)\n",
        "    log_prob = prob2\n",
        "\n",
        "    return log_prob\n",
        "  \n",
        "  return interpolated_trigram\n",
        "\n",
        "interp_trigram = get_interpolated_trigram(unigrams, bigrams, \n",
        "                                          trigrams, (0.1, 0.3, 0.6))\n",
        "#A quick test to see if our interpolated function is working\n",
        "interp_trigram((1, 2, 3))"
      ],
      "execution_count": 8,
      "outputs": [
        {
          "output_type": "execute_result",
          "data": {
            "text/plain": [
              "-2.2781149824005364"
            ]
          },
          "metadata": {
            "tags": []
          },
          "execution_count": 8
        }
      ]
    },
    {
      "cell_type": "markdown",
      "metadata": {
        "id": "kUfz6rulbs4R"
      },
      "source": [
        "Calculating the perplexity"
      ]
    },
    {
      "cell_type": "code",
      "metadata": {
        "id": "dFUGBzP-bqrT",
        "colab": {
          "base_uri": "https://localhost:8080/"
        },
        "outputId": "482adb28-5762-4346-8f22-495d6171ec8a"
      },
      "source": [
        "def perplexity(model, indices):\n",
        "  perp = None\n",
        "  \n",
        "  perplexity = 0 #np.log(1)\n",
        "  for i in range(len(indices)-2):\n",
        "    prob = model((indices[i],indices[i+1],indices[i+2]))\n",
        "    perplexity = perplexity + (1-prob)\n",
        "  N = len(indices)-2\n",
        "  perp = 1/N * perplexity\n",
        "  \n",
        "  return perp\n",
        "  \n",
        "  \n",
        "perplexity(interp_trigram, dev_indices)"
      ],
      "execution_count": 9,
      "outputs": [
        {
          "output_type": "stream",
          "text": [
            "/usr/local/lib/python3.7/dist-packages/ipykernel_launcher.py:14: RuntimeWarning: divide by zero encountered in log\n",
            "  \n",
            "/usr/local/lib/python3.7/dist-packages/ipykernel_launcher.py:17: RuntimeWarning: divide by zero encountered in log\n",
            "/usr/local/lib/python3.7/dist-packages/ipykernel_launcher.py:16: RuntimeWarning: divide by zero encountered in log\n",
            "  app.launch_new_instance()\n"
          ],
          "name": "stderr"
        },
        {
          "output_type": "execute_result",
          "data": {
            "text/plain": [
              "4.9140115663064945"
            ]
          },
          "metadata": {
            "tags": []
          },
          "execution_count": 9
        }
      ]
    },
    {
      "cell_type": "markdown",
      "metadata": {
        "id": "2TdUq0sgeR7c"
      },
      "source": [
        "# 3. Neural Ngrams Model\n",
        "\n",
        "We want to use the GPU support here"
      ]
    },
    {
      "cell_type": "code",
      "metadata": {
        "id": "ioMLBVoLzgAF"
      },
      "source": [
        "import torch\n",
        "from torch import nn\n",
        "\n",
        "# randomize the seed\n",
        "torch.manual_seed(360)\n",
        "\n",
        "if torch.cuda.is_available():\n",
        "  torch.cuda.manual_seed_all(360)"
      ],
      "execution_count": 10,
      "outputs": []
    },
    {
      "cell_type": "markdown",
      "metadata": {
        "id": "6_mXfK1aqThf"
      },
      "source": [
        "Our neural trigram class with an overrided forward function"
      ]
    },
    {
      "cell_type": "code",
      "metadata": {
        "id": "HdrJ0JmQcQ2Y"
      },
      "source": [
        "class NeuralTrigram(nn.Module):\n",
        "  def __init__(self, vocab_size, embed_size, hidden_size):\n",
        "    #Call the constructor from the parent class\n",
        "    super(NeuralTrigram, self).__init__()\n",
        "    \n",
        "    # The embedding layer\n",
        "    self.embed = nn.Embedding(vocab_size, embed_size) \n",
        "    \n",
        "    # Linearly transform to get to the hidden layer\n",
        "    self.linear = nn.Linear(2 * embed_size, hidden_size)\n",
        "    \n",
        "    # Change the dimension to fit the hidden layer\n",
        "    self.out = nn.Linear(hidden_size, vocab_size)\n",
        "    \n",
        "    # Apply a softmax to the first dimension of the hidden layer\n",
        "    self.softmax = nn.LogSoftmax(dim=1)\n",
        "    \n",
        "    \n",
        "  # Customizing the forward pass\n",
        "  def forward(self, input):\n",
        "    # Get the batch size and number of words\n",
        "    batch_size, n_words = input.shape\n",
        "\n",
        "    # embedding the input\n",
        "    embeds = self.embed(input)\n",
        "    \n",
        "    # Reshape the vector size to fit the context\n",
        "    context = embeds.view((batch_size, -1))\n",
        "    \n",
        "    # Put the context through a tanh function\n",
        "    hidden = torch.tanh(self.linear(context))\n",
        "    \n",
        "    # Get a score for the next word and softmax it so it will fit into a probability distribution\n",
        "    scores = self.out(hidden)\n",
        "    probs = self.softmax(scores)\n",
        "    \n",
        "    return probs"
      ],
      "execution_count": 11,
      "outputs": []
    },
    {
      "cell_type": "markdown",
      "metadata": {
        "id": "jegQdI5kn_9m"
      },
      "source": [
        "Our evaluation code"
      ]
    },
    {
      "cell_type": "code",
      "metadata": {
        "id": "1doBQz7RoWgs"
      },
      "source": [
        "def evaluate(model, indices, batch_size=32, cuda=False):\n",
        "  model.eval()\n",
        "  with torch.no_grad():\n",
        "    if cuda:\n",
        "      model = model.cuda()\n",
        "    total_loss = 0.0\n",
        "    \n",
        "    # Iterating over the words, stepping over batch_size each time\n",
        "    for i in range(2, len(indices)-batch_size+1, batch_size):\n",
        "      # build a tensor for the batch [i, i+batch_size]\n",
        "      input = torch.tensor([indices[j-2:j] for j in range(i, i + batch_size)], \n",
        "                           dtype=torch.int64)\n",
        "      if cuda:\n",
        "        input = input.cuda()\n",
        "      target = torch.tensor(indices[i:i+batch_size], dtype=torch.int64)\n",
        "\n",
        "      model.zero_grad()\n",
        "      output = model.forward(input)\n",
        "      if cuda:\n",
        "        output = output.cpu()\n",
        "        \n",
        "      # Compute the loss, we use the negative log likelihood loss\n",
        "      loss = nn.NLLLoss()(output, target)\n",
        "      total_loss += loss.item()\n",
        "      \n",
        "    # Averaging out the loss\n",
        "    num_batches = (len(indices)-2)//batch_size\n",
        "    avg_loss = total_loss/num_batches\n",
        "\n",
        "    return avg_loss"
      ],
      "execution_count": 12,
      "outputs": []
    },
    {
      "cell_type": "markdown",
      "metadata": {
        "id": "fBWd0wtcmxrB"
      },
      "source": [
        "Training code:\n",
        "For each batch of the training set, we do a forward pass, compute the respective score, and then do a backward pass by calling the backward function on the loss, and telling the optimizer to step backward to update the parameters"
      ]
    },
    {
      "cell_type": "code",
      "metadata": {
        "id": "lmwhQeYzmwPN"
      },
      "source": [
        "import time\n",
        "def train(model, indices, dev_indices, batch_size=32, n_epochs=1, cuda=False):\n",
        "  \n",
        "  #We use Stochastic Gradient Descent as our optimizer\n",
        "  optimizer = torch.optim.SGD(model.parameters(), lr = 0.1, weight_decay=0.00001)\n",
        "  if cuda:\n",
        "    model = model.cuda()\n",
        "  \n",
        "  losses = []\n",
        "  \n",
        "  for epoch in range(n_epochs):\n",
        "    start_time = time.time()\n",
        "    model.train()\n",
        "    \n",
        "    total_loss = 0.0\n",
        "    for i in range(2, len(indices)-batch_size+1, batch_size):\n",
        "      #Similar to evaluation code\n",
        "      input = torch.tensor([indices[j-2:j] for j in range(i, i + batch_size)], \n",
        "                           dtype=torch.int64)\n",
        "      target = torch.tensor(indices[i:i+batch_size], dtype=torch.int64)\n",
        "\n",
        "      if cuda:\n",
        "        input = input.cuda()\n",
        "        \n",
        "      optimizer.zero_grad()\n",
        "\n",
        "      #Compute the loss\n",
        "      log_prob = model(input)\n",
        "      if cuda:\n",
        "        log_prob = log_prob.cpu()\n",
        "      loss = nn.NLLLoss()(log_prob, target)\n",
        "      \n",
        "      #Backward pass to update the gradients and the parameters\n",
        "      loss.backward()\n",
        "      total_loss += loss.item()\n",
        "      optimizer.step()\n",
        "      \n",
        "    num_batches = (len(indices)-2)//batch_size\n",
        "    avg_loss = total_loss/num_batches\n",
        "    losses.append(avg_loss)\n",
        "    \n",
        "    # check the current loss for the dev set\n",
        "    dev_loss = evaluate(model, dev_indices, cuda=cuda)\n",
        "    \n",
        "    #Calculate perplexity\n",
        "    perp = pow(np.e,avg_loss)\n",
        "      \n",
        "    #Logging\n",
        "    print(\"epoch {} | time {:.2} | train loss {:.5} | dev loss {:.5} | perp {:4.2}\".format(\n",
        "            epoch + 1, time.time() - start_time, avg_loss, dev_loss, perp))\n",
        "  return losses"
      ],
      "execution_count": 13,
      "outputs": []
    },
    {
      "cell_type": "markdown",
      "metadata": {
        "id": "riTp396nuVpl"
      },
      "source": [
        "Let's train our model!\n"
      ]
    },
    {
      "cell_type": "code",
      "metadata": {
        "id": "hf5eW1APuVF4",
        "colab": {
          "base_uri": "https://localhost:8080/"
        },
        "outputId": "5ba43e9b-ba7a-45e3-d85b-10acc0863782"
      },
      "source": [
        "print(\"----Beginning Training----\")\n",
        "ntrigram = NeuralTrigram(vocab_size=len(vocab), embed_size=30, hidden_size=50)\n",
        "train(ntrigram, train_indices,dev_indices, n_epochs=20, cuda=True)\n",
        "#evaluate(ntrigram,train_indices)"
      ],
      "execution_count": 44,
      "outputs": [
        {
          "output_type": "stream",
          "text": [
            "----Beginning Training----\n",
            "epoch 1 | time 7.2e+01 | train loss 6.186 | dev loss 5.8917 | perp 4.9e+02\n",
            "epoch 2 | time 7.2e+01 | train loss 5.9076 | dev loss 5.7952 | perp 3.7e+02\n",
            "epoch 3 | time 7.1e+01 | train loss 5.815 | dev loss 5.7465 | perp 3.4e+02\n",
            "epoch 4 | time 7.1e+01 | train loss 5.7538 | dev loss 5.7148 | perp 3.2e+02\n",
            "epoch 5 | time 7.2e+01 | train loss 5.707 | dev loss 5.6911 | perp 3e+02\n",
            "epoch 6 | time 7.1e+01 | train loss 5.6682 | dev loss 5.6732 | perp 2.9e+02\n",
            "epoch 7 | time 7.1e+01 | train loss 5.6348 | dev loss 5.6595 | perp 2.8e+02\n",
            "epoch 8 | time 7.2e+01 | train loss 5.6052 | dev loss 5.6478 | perp 2.7e+02\n",
            "epoch 9 | time 7.2e+01 | train loss 5.5785 | dev loss 5.6376 | perp 2.6e+02\n",
            "epoch 10 | time 7.1e+01 | train loss 5.5542 | dev loss 5.6288 | perp 2.6e+02\n",
            "epoch 11 | time 7.2e+01 | train loss 5.5319 | dev loss 5.6227 | perp 2.5e+02\n",
            "epoch 12 | time 7.2e+01 | train loss 5.511 | dev loss 5.6174 | perp 2.5e+02\n",
            "epoch 13 | time 7.3e+01 | train loss 5.4916 | dev loss 5.6115 | perp 2.4e+02\n",
            "epoch 14 | time 7.1e+01 | train loss 5.4733 | dev loss 5.6057 | perp 2.4e+02\n",
            "epoch 15 | time 7.2e+01 | train loss 5.4559 | dev loss 5.6005 | perp 2.3e+02\n",
            "epoch 16 | time 7.2e+01 | train loss 5.4395 | dev loss 5.595 | perp 2.3e+02\n",
            "epoch 17 | time 7.1e+01 | train loss 5.424 | dev loss 5.59 | perp 2.3e+02\n",
            "epoch 18 | time 7.2e+01 | train loss 5.4092 | dev loss 5.5852 | perp 2.2e+02\n",
            "epoch 19 | time 7.2e+01 | train loss 5.3951 | dev loss 5.5803 | perp 2.2e+02\n",
            "epoch 20 | time 7.1e+01 | train loss 5.3814 | dev loss 5.576 | perp 2.2e+02\n"
          ],
          "name": "stdout"
        },
        {
          "output_type": "execute_result",
          "data": {
            "text/plain": [
              "[6.186001565619571,\n",
              " 5.9075649293156935,\n",
              " 5.815048782390291,\n",
              " 5.753797667012882,\n",
              " 5.707020943172169,\n",
              " 5.668243611563234,\n",
              " 5.634787911104914,\n",
              " 5.605184354974373,\n",
              " 5.578459259500369,\n",
              " 5.5542363057094,\n",
              " 5.53187491836641,\n",
              " 5.511032267119237,\n",
              " 5.491590454652885,\n",
              " 5.47327030313993,\n",
              " 5.455901750350333,\n",
              " 5.439483412332862,\n",
              " 5.424012527660759,\n",
              " 5.409217341059976,\n",
              " 5.395075521314996,\n",
              " 5.381413503791662]"
            ]
          },
          "metadata": {
            "tags": []
          },
          "execution_count": 44
        }
      ]
    },
    {
      "cell_type": "markdown",
      "metadata": {
        "id": "MXEISttYlw-g"
      },
      "source": [
        "Testing both models on the test set"
      ]
    },
    {
      "cell_type": "code",
      "metadata": {
        "id": "YlOz1-HRl9-M",
        "colab": {
          "base_uri": "https://localhost:8080/"
        },
        "outputId": "caa98ad8-8161-48ee-d454-5a1d63b753e6"
      },
      "source": [
        "evaluate(ntrigram,test_indices,cuda=True)\n"
      ],
      "execution_count": 45,
      "outputs": [
        {
          "output_type": "execute_result",
          "data": {
            "text/plain": [
              "5.590502789504759"
            ]
          },
          "metadata": {
            "tags": []
          },
          "execution_count": 45
        }
      ]
    },
    {
      "cell_type": "code",
      "metadata": {
        "id": "r16k97uwslFT",
        "colab": {
          "base_uri": "https://localhost:8080/"
        },
        "outputId": "f543ba90-672c-4a55-db5f-697b8de5c5a3"
      },
      "source": [
        "perplexity(interp_trigram,test_indices)"
      ],
      "execution_count": 27,
      "outputs": [
        {
          "output_type": "stream",
          "text": [
            "/usr/local/lib/python3.7/dist-packages/ipykernel_launcher.py:16: RuntimeWarning: divide by zero encountered in log\n",
            "  app.launch_new_instance()\n",
            "/usr/local/lib/python3.7/dist-packages/ipykernel_launcher.py:17: RuntimeWarning: divide by zero encountered in log\n",
            "/usr/local/lib/python3.7/dist-packages/ipykernel_launcher.py:14: RuntimeWarning: divide by zero encountered in log\n",
            "  \n"
          ],
          "name": "stderr"
        },
        {
          "output_type": "execute_result",
          "data": {
            "text/plain": [
              "4.87501882462981"
            ]
          },
          "metadata": {
            "tags": []
          },
          "execution_count": 27
        }
      ]
    },
    {
      "cell_type": "markdown",
      "metadata": {
        "id": "benB0BojF3td"
      },
      "source": [
        "# 4. Semantic Similarity\n",
        "Let's just define the cosine similarity function"
      ]
    },
    {
      "cell_type": "code",
      "metadata": {
        "id": "gc6IzyExF3Y5"
      },
      "source": [
        "def cosine_sim(a, b):\n",
        "  similarity = 0\n",
        "  similarity = np.dot(a, b)/(np.linalg.norm(a)*np.linalg.norm(b))  \n",
        "  return similarity"
      ],
      "execution_count": 17,
      "outputs": []
    },
    {
      "cell_type": "markdown",
      "metadata": {
        "id": "A9LnPEy2N5An"
      },
      "source": [
        "Explore the model with some interesting pair of words"
      ]
    },
    {
      "cell_type": "code",
      "metadata": {
        "id": "KnsTR24tNybS",
        "colab": {
          "base_uri": "https://localhost:8080/"
        },
        "outputId": "95632647-d61e-4606-d0b6-e68bf83b6a69"
      },
      "source": [
        "# This long sequence of calls gets us a matrix representing the embeddings we trained\n",
        "embed_matrix = ntrigram.cpu().embed.weight.data.numpy()\n",
        "\n",
        "a = embed_matrix[word2idx[\"car\"]]\n",
        "b = embed_matrix[word2idx[\"dog\"]]\n",
        "c = embed_matrix[word2idx[\"cat\"]]\n",
        "\n",
        "cosine_sim(a, b), cosine_sim(b, c)"
      ],
      "execution_count": 30,
      "outputs": [
        {
          "output_type": "execute_result",
          "data": {
            "text/plain": [
              "(-0.14776057, -0.009813079)"
            ]
          },
          "metadata": {
            "tags": []
          },
          "execution_count": 30
        }
      ]
    },
    {
      "cell_type": "markdown",
      "metadata": {
        "id": "5VYbPNP9QWUf"
      },
      "source": [
        "A classic example "
      ]
    },
    {
      "cell_type": "code",
      "metadata": {
        "id": "2pjMBOsORNnI",
        "colab": {
          "base_uri": "https://localhost:8080/"
        },
        "outputId": "af1d23ea-1694-4dc9-fff1-e864c541c5a9"
      },
      "source": [
        "spear, sword, rock = \"spear\", \"sword\", \"rock\"\n",
        "a = embed_matrix[word2idx[spear]]\n",
        "b = embed_matrix[word2idx[sword]]\n",
        "c = embed_matrix[word2idx[rock]]\n",
        "\n",
        "cosine_sim(a, b), cosine_sim(a, c)"
      ],
      "execution_count": 32,
      "outputs": [
        {
          "output_type": "execute_result",
          "data": {
            "text/plain": [
              "(-0.18928087, -0.22034152)"
            ]
          },
          "metadata": {
            "tags": []
          },
          "execution_count": 32
        }
      ]
    },
    {
      "cell_type": "code",
      "metadata": {
        "id": "SWwGgT3tlt78",
        "colab": {
          "base_uri": "https://localhost:8080/"
        },
        "outputId": "c85f43f9-775d-4005-e8e3-8944d348873d"
      },
      "source": [
        "atlanta, city, place = \"atlanta\", \"city\", \"place\"\n",
        "a = embed_matrix[word2idx[atlanta]]\n",
        "b = embed_matrix[word2idx[city]]\n",
        "c = embed_matrix[word2idx[place]]\n",
        "\n",
        "cosine_sim(a, b), cosine_sim(a, c)"
      ],
      "execution_count": 37,
      "outputs": [
        {
          "output_type": "execute_result",
          "data": {
            "text/plain": [
              "(-0.086587526, -0.033710107)"
            ]
          },
          "metadata": {
            "tags": []
          },
          "execution_count": 37
        }
      ]
    },
    {
      "cell_type": "code",
      "metadata": {
        "id": "cnjimFNCilAC",
        "colab": {
          "base_uri": "https://localhost:8080/"
        },
        "outputId": "7ef307f2-89f9-4e62-e37a-82dafa08a68f"
      },
      "source": [
        "cosine_sim(embed_matrix[word2idx['inadequate']],embed_matrix[word2idx['ambiguous']]), cosine_sim(embed_matrix[word2idx['inadequate']],embed_matrix[word2idx['experienced']])"
      ],
      "execution_count": 38,
      "outputs": [
        {
          "output_type": "execute_result",
          "data": {
            "text/plain": [
              "(-0.23602815, -0.1257164)"
            ]
          },
          "metadata": {
            "tags": []
          },
          "execution_count": 38
        }
      ]
    },
    {
      "cell_type": "code",
      "metadata": {
        "id": "51hUsE52jAiQ",
        "colab": {
          "base_uri": "https://localhost:8080/"
        },
        "outputId": "e5452c63-558d-45ad-8c83-8d2677b575fd"
      },
      "source": [
        "cosine_sim(embed_matrix[word2idx['husband']],embed_matrix[word2idx['son']]), cosine_sim(embed_matrix[word2idx['wife']],embed_matrix[word2idx['daughter']])"
      ],
      "execution_count": 39,
      "outputs": [
        {
          "output_type": "execute_result",
          "data": {
            "text/plain": [
              "(0.5580224, 0.06786769)"
            ]
          },
          "metadata": {
            "tags": []
          },
          "execution_count": 39
        }
      ]
    }
  ]
}